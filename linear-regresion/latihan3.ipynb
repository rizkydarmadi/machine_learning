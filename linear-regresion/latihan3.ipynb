{
 "cells": [
  {
   "cell_type": "markdown",
   "metadata": {},
   "source": [
    "## Contoh Kasus Analisis Regresi Linear Sederhana\n",
    "\n",
    "Seorang Engineer ingin mempelajari Hubungan antara Suhu Ruangan dengan Jumlah Cacat yang diakibatkannya, sehingga dapat memprediksi atau meramalkan jumlah cacat produksi jika suhu ruangan tersebut tidak terkendali. Engineer tersebut kemudian mengambil data selama 30 hari terhadap rata-rata (mean) suhu ruangan dan Jumlah Cacat Produksi"
   ]
  },
  {
   "cell_type": "code",
   "execution_count": 12,
   "metadata": {},
   "outputs": [],
   "source": [
    "data = [\n",
    "\t{\n",
    "\t\t'tanggal': 1,\n",
    "\t\t'rata_rata_suhu_ruangan': 24,\n",
    "\t\t'jumlah_cacat': 10\n",
    "\t},\n",
    "\t{\n",
    "\t\t'tanggal': 2,\n",
    "\t\t'rata_rata_suhu_ruangan': 22,\n",
    "\t\t'jumlah_cacat': 5\n",
    "\t},\n",
    "\t{\n",
    "\t\t'tanggal': 3,\n",
    "\t\t'rata_rata_suhu_ruangan': 21,\n",
    "\t\t'jumlah_cacat': 6\n",
    "\t},\n",
    "\t{\n",
    "\t\t'tanggal': 4,\n",
    "\t\t'rata_rata_suhu_ruangan': 20,\n",
    "\t\t'jumlah_cacat': 3\n",
    "\t},\n",
    "\t{\n",
    "\t\t'tanggal': 5,\n",
    "\t\t'rata_rata_suhu_ruangan': 22,\n",
    "\t\t'jumlah_cacat': 6\n",
    "\t},\n",
    "\t{\n",
    "\t\t'tanggal': 6,\n",
    "\t\t'rata_rata_suhu_ruangan': 19,\n",
    "\t\t'jumlah_cacat': 4\n",
    "\t},\n",
    "\t{\n",
    "\t\t'tanggal': 7,\n",
    "\t\t'rata_rata_suhu_ruangan': 20,\n",
    "\t\t'jumlah_cacat': 5\n",
    "\t},\n",
    "\t{\n",
    "\t\t'tanggal': 8,\n",
    "\t\t'rata_rata_suhu_ruangan': 23,\n",
    "\t\t'jumlah_cacat': 9\n",
    "\t},\n",
    "\t{\n",
    "\t\t'tanggal': 9,\n",
    "\t\t'rata_rata_suhu_ruangan': 24,\n",
    "\t\t'jumlah_cacat': 11\n",
    "\t},\n",
    "\t{\n",
    "\t\t'tanggal': 10,\n",
    "\t\t'rata_rata_suhu_ruangan': 25,\n",
    "\t\t'jumlah_cacat': 13\n",
    "\t},\n",
    "\t{\n",
    "\t\t'tanggal': 11,\n",
    "\t\t'rata_rata_suhu_ruangan': 21,\n",
    "\t\t'jumlah_cacat': 7\n",
    "\t},\n",
    "\t{\n",
    "\t\t'tanggal': 12,\n",
    "\t\t'rata_rata_suhu_ruangan': 20,\n",
    "\t\t'jumlah_cacat': 4\n",
    "\t},\n",
    "\t{\n",
    "\t\t'tanggal': 13,\n",
    "\t\t'rata_rata_suhu_ruangan': 20,\n",
    "\t\t'jumlah_cacat': 6\n",
    "\t},\n",
    "\t{\n",
    "\t\t'tanggal': 14,\n",
    "\t\t'rata_rata_suhu_ruangan': 19,\n",
    "\t\t'jumlah_cacat': 3\n",
    "\t},\n",
    "\t{\n",
    "\t\t'tanggal': 15,\n",
    "\t\t'rata_rata_suhu_ruangan': 25,\n",
    "\t\t'jumlah_cacat': 12\n",
    "\t},\n",
    "\t{\n",
    "\t\t'tanggal': 16,\n",
    "\t\t'rata_rata_suhu_ruangan': 27,\n",
    "\t\t'jumlah_cacat': 13\n",
    "\t},\n",
    "\t{\n",
    "\t\t'tanggal': 17,\n",
    "\t\t'rata_rata_suhu_ruangan': 28,\n",
    "\t\t'jumlah_cacat': 16\n",
    "\t},\n",
    "\t{\n",
    "\t\t'tanggal': 18,\n",
    "\t\t'rata_rata_suhu_ruangan': 25,\n",
    "\t\t'jumlah_cacat': 12\n",
    "\t},\n",
    "\t{\n",
    "\t\t'tanggal': 19,\n",
    "\t\t'rata_rata_suhu_ruangan': 26,\n",
    "\t\t'jumlah_cacat': 14\n",
    "\t},\n",
    "\t{\n",
    "\t\t'tanggal': 20,\n",
    "\t\t'rata_rata_suhu_ruangan': 24,\n",
    "\t\t'jumlah_cacat': 12\n",
    "\t},\n",
    "\t{\n",
    "\t\t'tanggal': 21,\n",
    "\t\t'rata_rata_suhu_ruangan': 27,\n",
    "\t\t'jumlah_cacat': 16\n",
    "\t},\n",
    "\t{\n",
    "\t\t'tanggal': 22,\n",
    "\t\t'rata_rata_suhu_ruangan': 23,\n",
    "\t\t'jumlah_cacat': 9\n",
    "\t},\n",
    "\t{\n",
    "\t\t'tanggal': 23,\n",
    "\t\t'rata_rata_suhu_ruangan': 24,\n",
    "\t\t'jumlah_cacat': 13\n",
    "\t},\n",
    "\t{\n",
    "\t\t'tanggal': 24,\n",
    "\t\t'rata_rata_suhu_ruangan': 23,\n",
    "\t\t'jumlah_cacat': 11\n",
    "\t},\n",
    "\t{\n",
    "\t\t'tanggal': 25,\n",
    "\t\t'rata_rata_suhu_ruangan': 22,\n",
    "\t\t'jumlah_cacat': 7\n",
    "\t},\n",
    "\t{\n",
    "\t\t'tanggal': 26,\n",
    "\t\t'rata_rata_suhu_ruangan': 21,\n",
    "\t\t'jumlah_cacat': 5\n",
    "\t},\n",
    "\t{\n",
    "\t\t'tanggal': 27,\n",
    "\t\t'rata_rata_suhu_ruangan': 26,\n",
    "\t\t'jumlah_cacat': 12\n",
    "\t},\n",
    "\t{\n",
    "\t\t'tanggal': 28,\n",
    "\t\t'rata_rata_suhu_ruangan': 25,\n",
    "\t\t'jumlah_cacat': 11\n",
    "\t},\n",
    "\t{\n",
    "\t\t'tanggal': 29,\n",
    "\t\t'rata_rata_suhu_ruangan': 26,\n",
    "\t\t'jumlah_cacat': 13\n",
    "\t},\n",
    "\t{\n",
    "\t\t'tanggal': 30,\n",
    "\t\t'rata_rata_suhu_ruangan': 27,\n",
    "\t\t'jumlah_cacat': 14\n",
    "\t}\n",
    "]"
   ]
  },
  {
   "cell_type": "code",
   "execution_count": 13,
   "metadata": {},
   "outputs": [
    {
     "data": {
      "text/plain": [
       "0.9554577513221791"
      ]
     },
     "execution_count": 13,
     "metadata": {},
     "output_type": "execute_result"
    }
   ],
   "source": [
    "from researchzky.pearsonCorrelation import PearsonCorrelation\n",
    "\n",
    "r = PearsonCorrelation.pearson_def(x=[x['rata_rata_suhu_ruangan'] for x in data],y=[y['jumlah_cacat'] for y in data])\n",
    "r"
   ]
  },
  {
   "cell_type": "code",
   "execution_count": 14,
   "metadata": {},
   "outputs": [
    {
     "data": {
      "image/png": "[encoded data removed]",
      "text/plain": [
       "<Figure size 432x288 with 1 Axes>"
      ]
     },
     "metadata": {
      "needs_background": "light"
     },
     "output_type": "display_data"
    }
   ],
   "source": [
    "sigma_x = sum([x['rata_rata_suhu_ruangan'] for x in data])\n",
    "sigma_y = sum([y['jumlah_cacat'] for y in data])\n",
    "\n",
    "sigma_x_pangkat_2 = sum([x['rata_rata_suhu_ruangan']**2 for x in data])\n",
    "sigma_y_pangkat_2 = sum([y['jumlah_cacat']**2 for y in data])\n",
    "\n",
    "sigma_xy = sum([i['rata_rata_suhu_ruangan']*i['jumlah_cacat'] for i in data])\n",
    "\n",
    "\n",
    "import matplotlib.pyplot as plt\n",
    "\n",
    "\n",
    "plt.scatter(x=[x['rata_rata_suhu_ruangan'] for x in data],y=[y['jumlah_cacat'] for y in data])\n",
    "plt.title(\"generate data\")\n",
    "plt.xlabel(\"Kamera\")\n",
    "plt.ylabel(\"Harga\")\n",
    "plt.show()\n"
   ]
  },
  {
   "cell_type": "markdown",
   "metadata": {},
   "source": [
    "### Menghitung konstanta\n",
    "![konstanata](img/konstanta.png)\n",
    "\n",
    "### Menghitung Koefiien Regresi\n",
    "![koefisien_regresi](img/koef_regresi.png)\n",
    "\n",
    "$y = \\alpha + \\beta x $\n",
    "\n",
    "$ \\alpha$ = konstanta \n",
    "\n",
    "$ \\beta $ = koefisien regresi (besaran yang ditimbulkan $x$)\n"
   ]
  },
  {
   "cell_type": "code",
   "execution_count": 15,
   "metadata": {},
   "outputs": [],
   "source": [
    "def konstanta(sigma_y,sigma_x,len,sigma_x_pangkat_2,sigma_xy):\n",
    "    return  ((sigma_y*sigma_x_pangkat_2)-(sigma_x*sigma_xy))/((len*sigma_x_pangkat_2)-sigma_x**2)\n",
    "\n",
    "def koefisien_regresi (len,sigma_xy,sigma_x,sigma_y,sigma_x_pangkat_2):\n",
    "    return (((len*sigma_xy)-(sigma_x*sigma_y)))/((len*sigma_x_pangkat_2)-sigma_x**2)\n",
    "\n",
    "def prediksi(a,b,x):\n",
    "    y = a + b * x\n",
    "    return print(f'jika x nya {x} maka prediksi y nya adalah {y}')\n"
   ]
  },
  {
   "cell_type": "code",
   "execution_count": 16,
   "metadata": {},
   "outputs": [
    {
     "name": "stdout",
     "output_type": "stream",
     "text": [
      "1.4498252621068397\n"
     ]
    }
   ],
   "source": [
    "a = konstanta(sigma_y=sigma_y,sigma_x=sigma_x,len=len(data),sigma_x_pangkat_2=sigma_x_pangkat_2,sigma_xy=sigma_xy)\n",
    "\n",
    "b = koefisien_regresi(len=len(data),sigma_xy=sigma_xy,sigma_x=sigma_x,sigma_y=sigma_y,sigma_x_pangkat_2=sigma_x_pangkat_2)\n",
    "print(b) "
   ]
  },
  {
   "cell_type": "code",
   "execution_count": 17,
   "metadata": {},
   "outputs": [
    {
     "name": "stdout",
     "output_type": "stream",
     "text": [
      "jika x nya 30 maka prediksi y nya adalah 19.113829256115828\n"
     ]
    }
   ],
   "source": [
    "prediksi(a=a,b=b,x=30)"
   ]
  }
 ],
 "metadata": {
  "interpreter": {
   "hash": "957738a2aee8016b3ea68d8d6a4580d7d9e78f3e33cd5a0d2c493d7b05e772c9"
  },
  "kernelspec": {
   "display_name": "Python 3.8.12 ('env': venv)",
   "language": "python",
   "name": "python3"
  },
  "language_info": {
   "codemirror_mode": {
    "name": "ipython",
    "version": 3
   },
   "file_extension": ".py",
   "mimetype": "text/x-python",
   "name": "python",
   "nbconvert_exporter": "python",
   "pygments_lexer": "ipython3",
   "version": "3.8.12"
  },
  "orig_nbformat": 4
 },
 "nbformat": 4,
 "nbformat_minor": 2
}
