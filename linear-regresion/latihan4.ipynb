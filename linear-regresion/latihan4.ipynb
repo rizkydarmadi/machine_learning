{
 "cells": [
  {
   "cell_type": "markdown",
   "metadata": {},
   "source": [
    "## CO2Emmision Predict"
   ]
  },
  {
   "cell_type": "markdown",
   "metadata": {},
   "source": [
    "### import dataset"
   ]
  },
  {
   "cell_type": "code",
   "execution_count": 67,
   "metadata": {},
   "outputs": [
    {
     "name": "stdout",
     "output_type": "stream",
     "text": [
      "[['2', '4', '8,5', '196'], ['2,4', '4', '9,6', '221'], ['1,5', '4', '5,9', '136'], ['3,5', '6', '11,1', '255'], ['3,5', '6', '10,6', '244'], ['3,5', '6', '10', '230'], ['3,5', '6', '10,1', '232'], ['3,7', '6', '11,1', '255'], ['3,7', '6', '11,1', '267'], ['2,7', '4', '9,2', '?']]\n"
     ]
    }
   ],
   "source": [
    "import csv\n",
    "\n",
    "file = open('dataset/dataset_emmision.csv')\n",
    "type(file)\n",
    "csvreader = csv.reader(file)\n",
    "header = []\n",
    "header = next(csvreader)\n",
    "header\n",
    "rows = []\n",
    "for row in csvreader:\n",
    "    rows.append(row)\n",
    "\n",
    "print(rows)"
   ]
  },
  {
   "cell_type": "markdown",
   "metadata": {},
   "source": [
    "### cleansing data"
   ]
  },
  {
   "cell_type": "code",
   "execution_count": 68,
   "metadata": {},
   "outputs": [],
   "source": [
    "data_cleansing = []\n",
    "for row in rows:\n",
    "    if row[3] == '?':\n",
    "        continue\n",
    "    data_cleansing.append([float(row[0].replace(',','.')),float(row[3])])"
   ]
  },
  {
   "cell_type": "markdown",
   "metadata": {},
   "source": [
    "### Data set visualization\n"
   ]
  },
  {
   "cell_type": "code",
   "execution_count": 69,
   "metadata": {},
   "outputs": [
    {
     "data": {
      "image/png": "[encoded data removed]",
      "text/plain": [
       "<Figure size 432x288 with 1 Axes>"
      ]
     },
     "metadata": {
      "needs_background": "light"
     },
     "output_type": "display_data"
    }
   ],
   "source": [
    "import matplotlib.pyplot as plt\n",
    "\n",
    "x = []\n",
    "y = []\n",
    "for i in data_cleansing:\n",
    "    x.append(i[0])\n",
    "    y.append(i[1])\n",
    "\n",
    "plt.scatter(x=x,y=y)\n",
    "plt.title(\"Generate data\")\n",
    "plt.xlabel(\"engine size\")\n",
    "plt.ylabel(\"c02 Emmision\")\n",
    "plt.show()\n"
   ]
  },
  {
   "cell_type": "markdown",
   "metadata": {},
   "source": [
    "### Menghitung konstanta\n",
    "![konstanata](img/konstanta.png)\n",
    "\n",
    "### Menghitung Koefiien Regresi\n",
    "![koefisien_regresi](img/koef_regresi.png)\n",
    "\n",
    "$y = \\alpha + \\beta x $\n",
    "\n",
    "$ \\alpha$ = konstanta \n",
    "\n",
    "$ \\beta $ = koefisien regresi (besaran yang ditimbulkan $x$)"
   ]
  },
  {
   "cell_type": "code",
   "execution_count": 70,
   "metadata": {},
   "outputs": [],
   "source": [
    "sigma_x = sum(x)\n",
    "sigma_y = sum(y)\n",
    "sigma_x_pangkat_2 = sum([i**2 for i in x])\n",
    "sigma_y_pangkat_2 = sum([i**2 for i in y])\n",
    "sigma_xy = sum([i[0]*i[1] for i in data_cleansing])\n"
   ]
  },
  {
   "cell_type": "code",
   "execution_count": 71,
   "metadata": {},
   "outputs": [
    {
     "data": {
      "text/plain": [
       "[0.91966701395486]"
      ]
     },
     "execution_count": 71,
     "metadata": {},
     "output_type": "execute_result"
    }
   ],
   "source": [
    "from researchzky.pearsonCorrelation import PearsonCorrelation\n",
    "\n",
    "r = [PearsonCorrelation.pearson_def(x=x,y=y)]\n",
    "r"
   ]
  },
  {
   "cell_type": "code",
   "execution_count": 72,
   "metadata": {},
   "outputs": [],
   "source": [
    "class LinearRegresion():\n",
    "\n",
    "\n",
    "    def konstanta(sigma_y,sigma_x,len,sigma_x_pangkat_2,sigma_xy):\n",
    "        return  ((sigma_y*sigma_x_pangkat_2)-(sigma_x*sigma_xy))/((len*sigma_x_pangkat_2)-sigma_x**2)\n",
    "\n",
    "    def koefisien_regresi (len,sigma_xy,sigma_x,sigma_y,sigma_x_pangkat_2):\n",
    "        return (((len*sigma_xy)-(sigma_x*sigma_y)))/((len*sigma_x_pangkat_2)-sigma_x**2)\n",
    "\n",
    "    def prediksi(a,b,x):\n",
    "        y = a + b * x\n",
    "        return print(f'jika x nya {x} maka prediksi y nya adalah {y}')"
   ]
  },
  {
   "cell_type": "markdown",
   "metadata": {},
   "source": [
    "### result"
   ]
  },
  {
   "cell_type": "code",
   "execution_count": 73,
   "metadata": {},
   "outputs": [
    {
     "name": "stdout",
     "output_type": "stream",
     "text": [
      "jika x nya 2.4 maka prediksi y nya adalah 198.36539227399487\n"
     ]
    }
   ],
   "source": [
    "a = LinearRegresion.konstanta(sigma_y=sigma_y,sigma_x=sigma_x,len=len(data_cleansing),sigma_x_pangkat_2=sigma_x_pangkat_2,sigma_xy=sigma_xy)\n",
    "b = LinearRegresion.koefisien_regresi(len=len(data_cleansing),sigma_xy=sigma_xy,sigma_x=sigma_x,sigma_y=sigma_y,sigma_x_pangkat_2=sigma_x_pangkat_2)\n",
    "\n",
    "LinearRegresion.prediksi(a=a,b=b,x=2.4)"
   ]
  },
  {
   "cell_type": "markdown",
   "metadata": {},
   "source": [
    "## with sklearn"
   ]
  },
  {
   "cell_type": "code",
   "execution_count": 74,
   "metadata": {},
   "outputs": [
    {
     "data": {
      "text/plain": [
       "array([[2. ],\n",
       "       [2.4],\n",
       "       [1.5],\n",
       "       [3.5],\n",
       "       [3.5],\n",
       "       [3.5],\n",
       "       [3.5],\n",
       "       [3.7],\n",
       "       [3.7]])"
      ]
     },
     "execution_count": 74,
     "metadata": {},
     "output_type": "execute_result"
    }
   ],
   "source": [
    "import numpy as np\n",
    "\n",
    "x = np.array(x)\n",
    "y = np.array(y)\n",
    "\n",
    "x\n",
    "\n",
    "\n",
    "x = x.reshape(-1,1)\n",
    "x"
   ]
  },
  {
   "cell_type": "code",
   "execution_count": 75,
   "metadata": {},
   "outputs": [
    {
     "data": {
      "image/png": "[encoded data removed]",
      "text/plain": [
       "<Figure size 432x288 with 1 Axes>"
      ]
     },
     "metadata": {
      "needs_background": "light"
     },
     "output_type": "display_data"
    }
   ],
   "source": [
    "from sklearn.linear_model import LinearRegression\n",
    "\n",
    "model = LinearRegression()\n",
    "model.fit(x,y)\n",
    "\n",
    "x_vis = np.array([0,4]).reshape(-1,1)\n",
    "\n",
    "y_vis = model.predict(x_vis)\n",
    "\n",
    "plt.scatter(x,y)\n",
    "plt.plot(x_vis,y_vis,'-r')\n",
    "\n",
    "# plt.title(label='Perbandingan kamera dan harga handphone')\n",
    "# plt.xlabel('kamera')\n",
    "# plt.ylabel('harga')\n",
    "plt.xlim(0,4)\n",
    "plt.ylim(0,300)\n",
    "plt.grid(True)\n",
    "plt.show()\n",
    "\n"
   ]
  },
  {
   "cell_type": "code",
   "execution_count": 76,
   "metadata": {},
   "outputs": [
    {
     "data": {
      "text/plain": [
       "array([180.77160494])"
      ]
     },
     "execution_count": 76,
     "metadata": {},
     "output_type": "execute_result"
    }
   ],
   "source": [
    "x_vis = np.array([2]).reshape(-1,1)\n",
    "\n",
    "y_vis = model.predict(x_vis)\n",
    "y_vis"
   ]
  }
 ],
 "metadata": {
  "interpreter": {
   "hash": "957738a2aee8016b3ea68d8d6a4580d7d9e78f3e33cd5a0d2c493d7b05e772c9"
  },
  "kernelspec": {
   "display_name": "Python 3.8.12 ('env': venv)",
   "language": "python",
   "name": "python3"
  },
  "language_info": {
   "codemirror_mode": {
    "name": "ipython",
    "version": 3
   },
   "file_extension": ".py",
   "mimetype": "text/x-python",
   "name": "python",
   "nbconvert_exporter": "python",
   "pygments_lexer": "ipython3",
   "version": "3.8.12"
  },
  "orig_nbformat": 4
 },
 "nbformat": 4,
 "nbformat_minor": 2
}
