{
 "cells": [
  {
   "cell_type": "markdown",
   "metadata": {},
   "source": [
    "# tittle"
   ]
  },
  {
   "cell_type": "markdown",
   "metadata": {},
   "source": [
    "### Data Set"
   ]
  },
  {
   "cell_type": "code",
   "execution_count": 10,
   "metadata": {},
   "outputs": [],
   "source": [
    "# liter = [20,25,20,30,40,35,30,30,25,25,25]\n",
    "# kilometer = [142,177,144,203,273,239,201,195,175,169,179]\n",
    "import pandas as pd\n",
    "\n",
    "df1 = pd.read_csv('bensin.csv')\n",
    "liter = df1[['Liter']]\n",
    "kilometer = df1[['Kilometer']]"
   ]
  },
  {
   "cell_type": "code",
   "execution_count": 12,
   "metadata": {},
   "outputs": [
    {
     "name": "stdout",
     "output_type": "stream",
     "text": [
      "8 3\n"
     ]
    }
   ],
   "source": [
    "import numpy as np\n",
    "import sklearn.model_selection as ms\n",
    "\n",
    "X_train, X_test, Y_train, Y_test = ms.train_test_split(liter,kilometer,test_size=0.2,random_state=0) \n",
    "\n",
    "print(X_train.size, X_test.size)"
   ]
  },
  {
   "cell_type": "code",
   "execution_count": 15,
   "metadata": {},
   "outputs": [
    {
     "name": "stdout",
     "output_type": "stream",
     "text": [
      "    Liter\n",
      "10     25\n",
      "6      30\n",
      "1      25\n",
      "7      30\n",
      "8      25\n",
      "3      30\n",
      "0      20\n",
      "5      35\n",
      "    Kilometer\n",
      "10        179\n",
      "6         201\n",
      "1         177\n",
      "7         195\n",
      "8         175\n",
      "3         203\n",
      "0         142\n",
      "5         239\n"
     ]
    },
    {
     "data": {
      "image/png": "[encoded data removed]",
      "text/plain": [
       "<Figure size 432x288 with 1 Axes>"
      ]
     },
     "metadata": {
      "needs_background": "light"
     },
     "output_type": "display_data"
    }
   ],
   "source": [
    "import matplotlib.pyplot as plt\n",
    "\n",
    "print(X_train)\n",
    "print(Y_train)\n",
    "\n",
    "plt.scatter(X_train,Y_train,edgecolors='r')\n",
    "plt.xlabel('Liter')\n",
    "plt.ylabel('Kilometer')\n",
    "plt.title('Konsumsi bahan bakar')\n",
    "plt.show()"
   ]
  }
 ],
 "metadata": {
  "interpreter": {
   "hash": "957738a2aee8016b3ea68d8d6a4580d7d9e78f3e33cd5a0d2c493d7b05e772c9"
  },
  "kernelspec": {
   "display_name": "Python 3.8.12 ('env': venv)",
   "language": "python",
   "name": "python3"
  },
  "language_info": {
   "codemirror_mode": {
    "name": "ipython",
    "version": 3
   },
   "file_extension": ".py",
   "mimetype": "text/x-python",
   "name": "python",
   "nbconvert_exporter": "python",
   "pygments_lexer": "ipython3",
   "version": "3.8.12"
  },
  "orig_nbformat": 4
 },
 "nbformat": 4,
 "nbformat_minor": 2
}
