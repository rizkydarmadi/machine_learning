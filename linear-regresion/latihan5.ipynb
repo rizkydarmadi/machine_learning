{
 "cells": [
  {
   "cell_type": "markdown",
   "metadata": {},
   "source": [
    "### import dataset"
   ]
  },
  {
   "cell_type": "code",
   "execution_count": 4,
   "metadata": {},
   "outputs": [
    {
     "data": {
      "text/plain": [
       "[['H1', '8', '7'],\n",
       " ['H2', '2', '3'],\n",
       " ['H3', '6', '7'],\n",
       " ['H4', '9', ''],\n",
       " ['H5', '4', '2'],\n",
       " ['H6', '5', ''],\n",
       " ['H7', '7', '8'],\n",
       " ['H8', '3', '3']]"
      ]
     },
     "execution_count": 4,
     "metadata": {},
     "output_type": "execute_result"
    }
   ],
   "source": [
    "import csv\n",
    "\n",
    "file = open('dataset/data_handpone.csv')\n",
    "type(file)\n",
    "csvreader = csv.reader(file)\n",
    "header = []\n",
    "header = next(csvreader)\n",
    "rows = []\n",
    "for row in csvreader:\n",
    "    rows.append(row)\n",
    "\n",
    "rows"
   ]
  },
  {
   "cell_type": "markdown",
   "metadata": {},
   "source": [
    "### cleansing data"
   ]
  },
  {
   "cell_type": "code",
   "execution_count": 5,
   "metadata": {},
   "outputs": [],
   "source": [
    "data = []\n",
    "for i in rows:\n",
    "    if i[2] == '':\n",
    "        continue\n",
    "    data.append([int(i[1]),int(i[2])])"
   ]
  },
  {
   "cell_type": "code",
   "execution_count": 6,
   "metadata": {},
   "outputs": [
    {
     "data": {
      "image/png": "[encoded data removed]",
      "text/plain": [
       "<Figure size 432x288 with 1 Axes>"
      ]
     },
     "metadata": {
      "needs_background": "light"
     },
     "output_type": "display_data"
    },
    {
     "name": "stdout",
     "output_type": "stream",
     "text": [
      "jika x nya 3 maka prediksi y nya adalah 3.071428571428571\n"
     ]
    }
   ],
   "source": [
    "import researchzky\n",
    "\n",
    "sample = researchzky.SimpleLinearRegresion(data=data)\n",
    "researchzky.SimpleLinearRegresion.show(sample,x=3)"
   ]
  }
 ],
 "metadata": {
  "interpreter": {
   "hash": "957738a2aee8016b3ea68d8d6a4580d7d9e78f3e33cd5a0d2c493d7b05e772c9"
  },
  "kernelspec": {
   "display_name": "Python 3.8.12 ('env': venv)",
   "language": "python",
   "name": "python3"
  },
  "language_info": {
   "codemirror_mode": {
    "name": "ipython",
    "version": 3
   },
   "file_extension": ".py",
   "mimetype": "text/x-python",
   "name": "python",
   "nbconvert_exporter": "python",
   "pygments_lexer": "ipython3",
   "version": "3.8.12"
  },
  "orig_nbformat": 4
 },
 "nbformat": 4,
 "nbformat_minor": 2
}
