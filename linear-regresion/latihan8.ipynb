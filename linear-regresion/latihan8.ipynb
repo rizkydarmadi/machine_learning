{
 "cells": [
  {
   "cell_type": "markdown",
   "metadata": {},
   "source": [
    "## Contoh Kasus Analisis Regresi Linear Sederhana\n",
    "\n",
    "Seorang Engineer ingin mempelajari Hubungan antara Suhu Ruangan dengan Jumlah Cacat yang diakibatkannya, sehingga dapat memprediksi atau meramalkan jumlah cacat produksi jika suhu ruangan tersebut tidak terkendali. Engineer tersebut kemudian mengambil data selama 30 hari terhadap rata-rata (mean) suhu ruangan dan Jumlah Cacat Produksi"
   ]
  },
  {
   "cell_type": "code",
   "execution_count": 51,
   "metadata": {},
   "outputs": [],
   "source": [
    "data_set = [\n",
    "\t{\n",
    "\t\t'tanggal': 1,\n",
    "\t\t'rata_rata_suhu_ruangan': 24,\n",
    "\t\t'jumlah_cacat': 10\n",
    "\t},\n",
    "\t{\n",
    "\t\t'tanggal': 2,\n",
    "\t\t'rata_rata_suhu_ruangan': 22,\n",
    "\t\t'jumlah_cacat': 5\n",
    "\t},\n",
    "\t{\n",
    "\t\t'tanggal': 3,\n",
    "\t\t'rata_rata_suhu_ruangan': 21,\n",
    "\t\t'jumlah_cacat': 6\n",
    "\t},\n",
    "\t{\n",
    "\t\t'tanggal': 4,\n",
    "\t\t'rata_rata_suhu_ruangan': 20,\n",
    "\t\t'jumlah_cacat': 3\n",
    "\t},\n",
    "\t{\n",
    "\t\t'tanggal': 5,\n",
    "\t\t'rata_rata_suhu_ruangan': 22,\n",
    "\t\t'jumlah_cacat': 6\n",
    "\t},\n",
    "\t{\n",
    "\t\t'tanggal': 6,\n",
    "\t\t'rata_rata_suhu_ruangan': 19,\n",
    "\t\t'jumlah_cacat': 4\n",
    "\t},\n",
    "\t{\n",
    "\t\t'tanggal': 7,\n",
    "\t\t'rata_rata_suhu_ruangan': 20,\n",
    "\t\t'jumlah_cacat': 5\n",
    "\t},\n",
    "\t{\n",
    "\t\t'tanggal': 8,\n",
    "\t\t'rata_rata_suhu_ruangan': 23,\n",
    "\t\t'jumlah_cacat': 9\n",
    "\t},\n",
    "\t{\n",
    "\t\t'tanggal': 9,\n",
    "\t\t'rata_rata_suhu_ruangan': 24,\n",
    "\t\t'jumlah_cacat': 11\n",
    "\t},\n",
    "\t{\n",
    "\t\t'tanggal': 10,\n",
    "\t\t'rata_rata_suhu_ruangan': 25,\n",
    "\t\t'jumlah_cacat': 13\n",
    "\t},\n",
    "\t{\n",
    "\t\t'tanggal': 11,\n",
    "\t\t'rata_rata_suhu_ruangan': 21,\n",
    "\t\t'jumlah_cacat': 7\n",
    "\t},\n",
    "\t{\n",
    "\t\t'tanggal': 12,\n",
    "\t\t'rata_rata_suhu_ruangan': 20,\n",
    "\t\t'jumlah_cacat': 4\n",
    "\t},\n",
    "\t{\n",
    "\t\t'tanggal': 13,\n",
    "\t\t'rata_rata_suhu_ruangan': 20,\n",
    "\t\t'jumlah_cacat': 6\n",
    "\t},\n",
    "\t{\n",
    "\t\t'tanggal': 14,\n",
    "\t\t'rata_rata_suhu_ruangan': 19,\n",
    "\t\t'jumlah_cacat': 3\n",
    "\t},\n",
    "\t{\n",
    "\t\t'tanggal': 15,\n",
    "\t\t'rata_rata_suhu_ruangan': 25,\n",
    "\t\t'jumlah_cacat': 12\n",
    "\t},\n",
    "\t{\n",
    "\t\t'tanggal': 16,\n",
    "\t\t'rata_rata_suhu_ruangan': 27,\n",
    "\t\t'jumlah_cacat': 13\n",
    "\t},\n",
    "\t{\n",
    "\t\t'tanggal': 17,\n",
    "\t\t'rata_rata_suhu_ruangan': 28,\n",
    "\t\t'jumlah_cacat': 16\n",
    "\t},\n",
    "\t{\n",
    "\t\t'tanggal': 18,\n",
    "\t\t'rata_rata_suhu_ruangan': 25,\n",
    "\t\t'jumlah_cacat': 12\n",
    "\t},\n",
    "\t{\n",
    "\t\t'tanggal': 19,\n",
    "\t\t'rata_rata_suhu_ruangan': 26,\n",
    "\t\t'jumlah_cacat': 14\n",
    "\t},\n",
    "\t{\n",
    "\t\t'tanggal': 20,\n",
    "\t\t'rata_rata_suhu_ruangan': 24,\n",
    "\t\t'jumlah_cacat': 12\n",
    "\t},\n",
    "\t{\n",
    "\t\t'tanggal': 21,\n",
    "\t\t'rata_rata_suhu_ruangan': 27,\n",
    "\t\t'jumlah_cacat': 16\n",
    "\t},\n",
    "\t{\n",
    "\t\t'tanggal': 22,\n",
    "\t\t'rata_rata_suhu_ruangan': 23,\n",
    "\t\t'jumlah_cacat': 9\n",
    "\t},\n",
    "\t{\n",
    "\t\t'tanggal': 23,\n",
    "\t\t'rata_rata_suhu_ruangan': 24,\n",
    "\t\t'jumlah_cacat': 13\n",
    "\t},\n",
    "\t{\n",
    "\t\t'tanggal': 24,\n",
    "\t\t'rata_rata_suhu_ruangan': 23,\n",
    "\t\t'jumlah_cacat': 11\n",
    "\t},\n",
    "\t{\n",
    "\t\t'tanggal': 25,\n",
    "\t\t'rata_rata_suhu_ruangan': 22,\n",
    "\t\t'jumlah_cacat': 7\n",
    "\t},\n",
    "\t{\n",
    "\t\t'tanggal': 26,\n",
    "\t\t'rata_rata_suhu_ruangan': 21,\n",
    "\t\t'jumlah_cacat': 5\n",
    "\t},\n",
    "\t{\n",
    "\t\t'tanggal': 27,\n",
    "\t\t'rata_rata_suhu_ruangan': 26,\n",
    "\t\t'jumlah_cacat': 12\n",
    "\t},\n",
    "\t{\n",
    "\t\t'tanggal': 28,\n",
    "\t\t'rata_rata_suhu_ruangan': 25,\n",
    "\t\t'jumlah_cacat': 11\n",
    "\t},\n",
    "\t{\n",
    "\t\t'tanggal': 29,\n",
    "\t\t'rata_rata_suhu_ruangan': 26,\n",
    "\t\t'jumlah_cacat': 13\n",
    "\t},\n",
    "\t{\n",
    "\t\t'tanggal': 30,\n",
    "\t\t'rata_rata_suhu_ruangan': 27,\n",
    "\t\t'jumlah_cacat': 14\n",
    "\t}\n",
    "]"
   ]
  },
  {
   "cell_type": "markdown",
   "metadata": {},
   "source": [
    "### cleansing data"
   ]
  },
  {
   "cell_type": "code",
   "execution_count": 52,
   "metadata": {},
   "outputs": [],
   "source": [
    "data = []\n",
    "for i in data_set:\n",
    "    data.append([i['rata_rata_suhu_ruangan'],i['jumlah_cacat']])"
   ]
  },
  {
   "cell_type": "code",
   "execution_count": 53,
   "metadata": {},
   "outputs": [
    {
     "data": {
      "image/png": "[encoded data removed]",
      "text/plain": [
       "<Figure size 432x288 with 1 Axes>"
      ]
     },
     "metadata": {
      "needs_background": "light"
     },
     "output_type": "display_data"
    },
    {
     "name": "stdout",
     "output_type": "stream",
     "text": [
      "jika x nya 17 maka prediksi y nya adalah 0.2661008487269072\n"
     ]
    }
   ],
   "source": [
    "import researchzky\n",
    "\n",
    "sample = researchzky.SimpleLinearRegresion(data=data)\n",
    "researchzky.SimpleLinearRegresion.show(sample,x=17)"
   ]
  }
 ],
 "metadata": {
  "interpreter": {
   "hash": "957738a2aee8016b3ea68d8d6a4580d7d9e78f3e33cd5a0d2c493d7b05e772c9"
  },
  "kernelspec": {
   "display_name": "Python 3.8.12 ('env': venv)",
   "language": "python",
   "name": "python3"
  },
  "language_info": {
   "codemirror_mode": {
    "name": "ipython",
    "version": 3
   },
   "file_extension": ".py",
   "mimetype": "text/x-python",
   "name": "python",
   "nbconvert_exporter": "python",
   "pygments_lexer": "ipython3",
   "version": "3.8.12"
  },
  "orig_nbformat": 4
 },
 "nbformat": 4,
 "nbformat_minor": 2
}
