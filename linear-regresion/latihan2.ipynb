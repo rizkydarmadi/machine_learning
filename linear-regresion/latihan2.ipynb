{
 "cells": [
  {
   "cell_type": "code",
   "execution_count": 1,
   "metadata": {},
   "outputs": [],
   "source": [
    "# in cm\n",
    "tinggi = [151,174,138,186,128,136,179,163,152,131]\n",
    "berat_badan = [63, 81, 56, 91, 47, 57, 76, 72, 62, 48]"
   ]
  },
  {
   "cell_type": "code",
   "execution_count": 2,
   "metadata": {},
   "outputs": [],
   "source": [
    "mean_x = sum(tinggi)/len(tinggi)\n",
    "mean_y = sum(berat_badan)/len(tinggi)"
   ]
  },
  {
   "cell_type": "markdown",
   "metadata": {},
   "source": [
    "![coeficien_corelation](img/corelation_coefiient.png)"
   ]
  },
  {
   "cell_type": "code",
   "execution_count": 3,
   "metadata": {},
   "outputs": [
    {
     "name": "stdout",
     "output_type": "stream",
     "text": [
      "1.0023751321143246\n"
     ]
    }
   ],
   "source": [
    "a = (tinggi[0]-mean_x)*(berat_badan[0]-mean_y) + (tinggi[-1]-mean_x)*(berat_badan[-1]-mean_y)\n",
    "b = (151-153.3)**2 + (131-153.8)**2\n",
    "c = (63-65.3)**2 + (48 - 65.3)**2\n",
    "d = b * c\n",
    "import math\n",
    "print(a/math.sqrt(d))\n",
    "\n"
   ]
  },
  {
   "cell_type": "code",
   "execution_count": 4,
   "metadata": {},
   "outputs": [
    {
     "data": {
      "text/html": [
       "<div>\n",
       "<style scoped>\n",
       "    .dataframe tbody tr th:only-of-type {\n",
       "        vertical-align: middle;\n",
       "    }\n",
       "\n",
       "    .dataframe tbody tr th {\n",
       "        vertical-align: top;\n",
       "    }\n",
       "\n",
       "    .dataframe thead th {\n",
       "        text-align: right;\n",
       "    }\n",
       "</style>\n",
       "<table border=\"1\" class=\"dataframe\">\n",
       "  <thead>\n",
       "    <tr style=\"text-align: right;\">\n",
       "      <th></th>\n",
       "      <th>kamera</th>\n",
       "      <th>harga</th>\n",
       "    </tr>\n",
       "  </thead>\n",
       "  <tbody>\n",
       "    <tr>\n",
       "      <th>0</th>\n",
       "      <td>8</td>\n",
       "      <td>7</td>\n",
       "    </tr>\n",
       "    <tr>\n",
       "      <th>1</th>\n",
       "      <td>2</td>\n",
       "      <td>3</td>\n",
       "    </tr>\n",
       "    <tr>\n",
       "      <th>2</th>\n",
       "      <td>6</td>\n",
       "      <td>7</td>\n",
       "    </tr>\n",
       "    <tr>\n",
       "      <th>3</th>\n",
       "      <td>4</td>\n",
       "      <td>2</td>\n",
       "    </tr>\n",
       "    <tr>\n",
       "      <th>4</th>\n",
       "      <td>7</td>\n",
       "      <td>8</td>\n",
       "    </tr>\n",
       "    <tr>\n",
       "      <th>5</th>\n",
       "      <td>3</td>\n",
       "      <td>3</td>\n",
       "    </tr>\n",
       "  </tbody>\n",
       "</table>\n",
       "</div>"
      ],
      "text/plain": [
       "   kamera  harga\n",
       "0       8      7\n",
       "1       2      3\n",
       "2       6      7\n",
       "3       4      2\n",
       "4       7      8\n",
       "5       3      3"
      ]
     },
     "execution_count": 4,
     "metadata": {},
     "output_type": "execute_result"
    }
   ],
   "source": [
    "import csv\n",
    "\n",
    "file = open('dataset/data_handpone.csv')\n",
    "type(file)\n",
    "csvreader = csv.reader(file)\n",
    "header = []\n",
    "header = next(csvreader)\n",
    "rows = []\n",
    "for row in csvreader:\n",
    "    rows.append(row)\n",
    "\n",
    "data = []\n",
    "for i in rows:\n",
    "    if i[2] == '':\n",
    "        continue\n",
    "    data.append([int(i[1]),int(i[2])])\n",
    "\n",
    "import pandas as pd\n",
    "\n",
    "handphone = {'kamera' : [i[0] for i in data],\n",
    "            'harga': [i[1] for i in data]\n",
    "            }\n",
    "\n",
    "handphone_df = pd.DataFrame(handphone)\n",
    "handphone_df\n",
    "\n",
    "\n",
    "\n"
   ]
  },
  {
   "cell_type": "code",
   "execution_count": 5,
   "metadata": {},
   "outputs": [],
   "source": [
    "def average(x):\n",
    "    return float(sum(x)) / len(x)\n",
    "\n",
    "x1 = handphone['kamera'][0]\n",
    "x_avg = average(handphone['kamera'])\n",
    "y1 = handphone['harga'][0]\n",
    "y_avg = average(handphone['harga'])\n",
    "\n"
   ]
  },
  {
   "cell_type": "code",
   "execution_count": 6,
   "metadata": {},
   "outputs": [
    {
     "data": {
      "text/plain": [
       "0.8750750267954219"
      ]
     },
     "execution_count": 6,
     "metadata": {},
     "output_type": "execute_result"
    }
   ],
   "source": [
    "import math\n",
    "\n",
    "diffprod = 0\n",
    "xdiff2 = 0\n",
    "ydiff2 = 0\n",
    "\n",
    "for i in range(len(handphone['kamera'])):\n",
    "    xdiff = handphone['kamera'][i] - x_avg\n",
    "    ydiff = handphone['harga'][i] - y_avg\n",
    "    diffprod += xdiff * ydiff\n",
    "    xdiff2 += xdiff * xdiff\n",
    "    ydiff2 += ydiff * ydiff\n",
    "\n",
    "result = diffprod / math.sqrt(xdiff2 * ydiff2)\n",
    "\n",
    "result\n",
    "\n"
   ]
  },
  {
   "cell_type": "code",
   "execution_count": 7,
   "metadata": {},
   "outputs": [
    {
     "data": {
      "text/plain": [
       "0.28729600000000005"
      ]
     },
     "execution_count": 7,
     "metadata": {},
     "output_type": "execute_result"
    }
   ],
   "source": [
    "0.5360**2"
   ]
  }
 ],
 "metadata": {
  "interpreter": {
   "hash": "957738a2aee8016b3ea68d8d6a4580d7d9e78f3e33cd5a0d2c493d7b05e772c9"
  },
  "kernelspec": {
   "display_name": "Python 3.8.12 ('env': venv)",
   "language": "python",
   "name": "python3"
  },
  "language_info": {
   "codemirror_mode": {
    "name": "ipython",
    "version": 3
   },
   "file_extension": ".py",
   "mimetype": "text/x-python",
   "name": "python",
   "nbconvert_exporter": "python",
   "pygments_lexer": "ipython3",
   "version": "3.8.12"
  },
  "orig_nbformat": 4
 },
 "nbformat": 4,
 "nbformat_minor": 2
}
