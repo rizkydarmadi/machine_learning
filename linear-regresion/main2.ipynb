{
 "cells": [
  {
   "cell_type": "markdown",
   "metadata": {},
   "source": [
    "# Regresi linier\n",
    "\n",
    "Regesi linier adalah analisa untuk mempelajari dan mengukur hubungan yang terjadi antara 2 variable atau lebih (wahyono,2018)\n",
    "\n",
    "hubungan antara 2 variable\n",
    "\n",
    "- lama belajar :clock10: -> nilai kuliah \n",
    "\n",
    "apakah lama belajar mempengaruhi nilai kuliah?\n",
    "\n",
    "apakah jika semakin lama dia belajar maka nilai dia semakin bagus?\n",
    "\n",
    "- tingkat pendidikan :mortar_board: -> penghasilan :dollar:\n",
    "\n",
    "apakah semakin tinggi tingkat pendidikan mempengaruhi penghasilan seseorang?\n",
    "\n",
    "- Besaran promosi -> nilai penjualan\n",
    "\n",
    "![regresi](img/regresi.png)\n",
    "\n",
    "variable y \n",
    "\n",
    "variable y adalah variable terikat/dependent(yang dipengaruhi)\n",
    "\n",
    "variable terikat (y) dalam penelitian merupakan respon (outcome) yang di ukur akibat perlakuan variable bebas (x)\n",
    "\n",
    "variale x\n",
    "\n",
    "variable x adalah variable bebas/independent(yang mempengaruhi)\n",
    "\n",
    "![regresi](img/line.png)\n",
    "\n",
    "garis merah itu adalah garis yang diukur oleh rumus :\n",
    "\n",
    "$y = \\alpha + \\beta x $\n",
    "\n",
    "$ \\alpha$ = konstanta \n",
    "\n",
    "$ \\beta $ = koefisien regresi (besaran yang ditimbulkan $x$)\n",
    "\n",
    "Fungsi regresi linier\n",
    "- Melihat hubungan\n",
    "- Membuat estimasi\n",
    "- melakukan prediksi"
   ]
  }
 ],
 "metadata": {
  "language_info": {
   "name": "python"
  },
  "orig_nbformat": 4
 },
 "nbformat": 4,
 "nbformat_minor": 2
}
